{
 "cells": [
  {
   "cell_type": "markdown",
   "metadata": {},
   "source": [
    "# flats-in-cracow machine learning"
   ]
  },
  {
   "cell_type": "markdown",
   "metadata": {},
   "source": [
    "## Imports"
   ]
  },
  {
   "cell_type": "code",
   "execution_count": 1,
   "metadata": {},
   "outputs": [],
   "source": [
    "from datetime import datetime\n",
    "from distutils.dir_util import copy_tree\n",
    "from pathlib import Path\n",
    "\n",
    "import joblib\n",
    "import matplotlib.pyplot as plt\n",
    "import numpy as np\n",
    "import pandas as pd\n",
    "\n",
    "from matplotlib.ticker import MaxNLocator\n",
    "from pylab import rcParams\n",
    "from sklearn.compose import ColumnTransformer, TransformedTargetRegressor\n",
    "from sklearn.dummy import DummyRegressor\n",
    "from sklearn.ensemble import (GradientBoostingRegressor, RandomForestRegressor,\n",
    "                              VotingRegressor)\n",
    "from sklearn.impute import KNNImputer\n",
    "from sklearn.metrics import (mean_absolute_error, mean_squared_error,\n",
    "                             mean_squared_log_error)\n",
    "from sklearn.model_selection import GridSearchCV, train_test_split, KFold\n",
    "from sklearn.neural_network import MLPRegressor\n",
    "from sklearn.pipeline import Pipeline\n",
    "from sklearn.preprocessing import MinMaxScaler, OneHotEncoder"
   ]
  },
  {
   "cell_type": "markdown",
   "metadata": {},
   "source": [
    "## Setup"
   ]
  },
  {
   "cell_type": "code",
   "execution_count": 2,
   "metadata": {},
   "outputs": [],
   "source": [
    "# Create directory for images \n",
    "Path(\"img\").mkdir(parents=True, exist_ok=True)\n",
    "\n",
    "# Set default figure size\n",
    "rcParams['figure.figsize'] = (4, 4)\n",
    "\n",
    "# Tell pandas how to display floats\n",
    "pd.options.display.float_format = \"{:,.2f}\".format"
   ]
  },
  {
   "cell_type": "markdown",
   "metadata": {},
   "source": [
    "## Data loading"
   ]
  },
  {
   "cell_type": "code",
   "execution_count": 3,
   "metadata": {},
   "outputs": [],
   "source": [
    "path = '../flats-data/cleaned_data.csv'"
   ]
  },
  {
   "cell_type": "code",
   "execution_count": 4,
   "metadata": {},
   "outputs": [],
   "source": [
    "data = pd.read_csv(path, lineterminator='\\n')"
   ]
  },
  {
   "cell_type": "code",
   "execution_count": 5,
   "metadata": {},
   "outputs": [
    {
     "name": "stdout",
     "output_type": "stream",
     "text": [
      "<class 'pandas.core.frame.DataFrame'>\n",
      "RangeIndex: 4592 entries, 0 to 4591\n",
      "Data columns (total 17 columns):\n",
      " #   Column     Non-Null Count  Dtype \n",
      "---  ------     --------------  ----- \n",
      " 0   District   4592 non-null   object\n",
      " 1   Amount     4592 non-null   int64 \n",
      " 2   Seller     4592 non-null   object\n",
      " 3   Area       4592 non-null   int64 \n",
      " 4   Rooms      4592 non-null   int64 \n",
      " 5   Bathrooms  4592 non-null   int64 \n",
      " 6   Parking    4592 non-null   object\n",
      " 7   Garden     4592 non-null   bool  \n",
      " 8   Balcony    4592 non-null   bool  \n",
      " 9   Terrace    4592 non-null   bool  \n",
      " 10  Floor      4592 non-null   bool  \n",
      " 11  New        4592 non-null   bool  \n",
      " 12  Estate     4592 non-null   bool  \n",
      " 13  Townhouse  4592 non-null   bool  \n",
      " 14  Apartment  4592 non-null   bool  \n",
      " 15  Land       4592 non-null   bool  \n",
      " 16  Studio     4592 non-null   bool  \n",
      "dtypes: bool(10), int64(4), object(3)\n",
      "memory usage: 296.1+ KB\n"
     ]
    }
   ],
   "source": [
    "data.info()"
   ]
  },
  {
   "cell_type": "code",
   "execution_count": 6,
   "metadata": {},
   "outputs": [
    {
     "data": {
      "text/html": [
       "<div>\n",
       "<style scoped>\n",
       "    .dataframe tbody tr th:only-of-type {\n",
       "        vertical-align: middle;\n",
       "    }\n",
       "\n",
       "    .dataframe tbody tr th {\n",
       "        vertical-align: top;\n",
       "    }\n",
       "\n",
       "    .dataframe thead th {\n",
       "        text-align: right;\n",
       "    }\n",
       "</style>\n",
       "<table border=\"1\" class=\"dataframe\">\n",
       "  <thead>\n",
       "    <tr style=\"text-align: right;\">\n",
       "      <th></th>\n",
       "      <th>District</th>\n",
       "      <th>Amount</th>\n",
       "      <th>Seller</th>\n",
       "      <th>Area</th>\n",
       "      <th>Rooms</th>\n",
       "      <th>Bathrooms</th>\n",
       "      <th>Parking</th>\n",
       "      <th>Garden</th>\n",
       "      <th>Balcony</th>\n",
       "      <th>Terrace</th>\n",
       "      <th>Floor</th>\n",
       "      <th>New</th>\n",
       "      <th>Estate</th>\n",
       "      <th>Townhouse</th>\n",
       "      <th>Apartment</th>\n",
       "      <th>Land</th>\n",
       "      <th>Studio</th>\n",
       "    </tr>\n",
       "  </thead>\n",
       "  <tbody>\n",
       "    <tr>\n",
       "      <th>0</th>\n",
       "      <td>krowodrza</td>\n",
       "      <td>595000</td>\n",
       "      <td>realtor</td>\n",
       "      <td>78</td>\n",
       "      <td>4</td>\n",
       "      <td>2</td>\n",
       "      <td>no parking</td>\n",
       "      <td>False</td>\n",
       "      <td>True</td>\n",
       "      <td>False</td>\n",
       "      <td>False</td>\n",
       "      <td>False</td>\n",
       "      <td>False</td>\n",
       "      <td>False</td>\n",
       "      <td>False</td>\n",
       "      <td>False</td>\n",
       "      <td>False</td>\n",
       "    </tr>\n",
       "    <tr>\n",
       "      <th>1</th>\n",
       "      <td>podgorze</td>\n",
       "      <td>449000</td>\n",
       "      <td>realtor</td>\n",
       "      <td>61</td>\n",
       "      <td>3</td>\n",
       "      <td>1</td>\n",
       "      <td>no parking</td>\n",
       "      <td>False</td>\n",
       "      <td>True</td>\n",
       "      <td>False</td>\n",
       "      <td>True</td>\n",
       "      <td>False</td>\n",
       "      <td>False</td>\n",
       "      <td>False</td>\n",
       "      <td>False</td>\n",
       "      <td>False</td>\n",
       "      <td>False</td>\n",
       "    </tr>\n",
       "    <tr>\n",
       "      <th>2</th>\n",
       "      <td>nowa huta</td>\n",
       "      <td>449000</td>\n",
       "      <td>realtor</td>\n",
       "      <td>58</td>\n",
       "      <td>3</td>\n",
       "      <td>1</td>\n",
       "      <td>no parking</td>\n",
       "      <td>False</td>\n",
       "      <td>True</td>\n",
       "      <td>False</td>\n",
       "      <td>False</td>\n",
       "      <td>True</td>\n",
       "      <td>False</td>\n",
       "      <td>False</td>\n",
       "      <td>False</td>\n",
       "      <td>False</td>\n",
       "      <td>False</td>\n",
       "    </tr>\n",
       "    <tr>\n",
       "      <th>3</th>\n",
       "      <td>krowodrza</td>\n",
       "      <td>595000</td>\n",
       "      <td>realtor</td>\n",
       "      <td>78</td>\n",
       "      <td>4</td>\n",
       "      <td>2</td>\n",
       "      <td>no parking</td>\n",
       "      <td>False</td>\n",
       "      <td>True</td>\n",
       "      <td>False</td>\n",
       "      <td>False</td>\n",
       "      <td>False</td>\n",
       "      <td>False</td>\n",
       "      <td>False</td>\n",
       "      <td>False</td>\n",
       "      <td>False</td>\n",
       "      <td>False</td>\n",
       "    </tr>\n",
       "    <tr>\n",
       "      <th>4</th>\n",
       "      <td>krowodrza</td>\n",
       "      <td>430000</td>\n",
       "      <td>realtor</td>\n",
       "      <td>48</td>\n",
       "      <td>2</td>\n",
       "      <td>1</td>\n",
       "      <td>garage</td>\n",
       "      <td>False</td>\n",
       "      <td>True</td>\n",
       "      <td>False</td>\n",
       "      <td>True</td>\n",
       "      <td>False</td>\n",
       "      <td>True</td>\n",
       "      <td>False</td>\n",
       "      <td>False</td>\n",
       "      <td>False</td>\n",
       "      <td>False</td>\n",
       "    </tr>\n",
       "  </tbody>\n",
       "</table>\n",
       "</div>"
      ],
      "text/plain": [
       "    District  Amount   Seller  Area  Rooms  Bathrooms     Parking  Garden  \\\n",
       "0  krowodrza  595000  realtor    78      4          2  no parking   False   \n",
       "1   podgorze  449000  realtor    61      3          1  no parking   False   \n",
       "2  nowa huta  449000  realtor    58      3          1  no parking   False   \n",
       "3  krowodrza  595000  realtor    78      4          2  no parking   False   \n",
       "4  krowodrza  430000  realtor    48      2          1      garage   False   \n",
       "\n",
       "   Balcony  Terrace  Floor    New  Estate  Townhouse  Apartment   Land  Studio  \n",
       "0     True    False  False  False   False      False      False  False   False  \n",
       "1     True    False   True  False   False      False      False  False   False  \n",
       "2     True    False  False   True   False      False      False  False   False  \n",
       "3     True    False  False  False   False      False      False  False   False  \n",
       "4     True    False   True  False    True      False      False  False   False  "
      ]
     },
     "execution_count": 6,
     "metadata": {},
     "output_type": "execute_result"
    }
   ],
   "source": [
    "data.head()"
   ]
  },
  {
   "cell_type": "markdown",
   "metadata": {},
   "source": [
    "## Feature engineering"
   ]
  },
  {
   "cell_type": "markdown",
   "metadata": {},
   "source": [
    "The next step is to engineer features. We add columns describing the `Total Rooms` in the property, ratio of `Area to Rooms` and so on."
   ]
  },
  {
   "cell_type": "code",
   "execution_count": 7,
   "metadata": {},
   "outputs": [],
   "source": [
    "data['Log Area'] = np.round(np.log(data['Area']), 2)\n",
    "data['Bool Sum'] = data.select_dtypes(bool).sum(axis=1)\n",
    "# Avoid division by zero\n",
    "data['Area to Bool Sum'] = round(data['Area'] / (data.select_dtypes(bool).sum(axis=1) + 1), 2)\n",
    "data['Rooms to Bool Sum'] = round(data['Rooms'] / (data.select_dtypes(bool).sum(axis=1) + 1), 2)\n",
    "data['Rooms to Bathrooms' ] = round(data['Rooms'] / data['Bathrooms'], 2)\n",
    "data['Total Rooms'] = round(data['Rooms'] + data['Bathrooms'], 2)\n",
    "data['Area to Rooms'] = round(data['Area'] / data['Rooms'], 2)\n",
    "data['Area to Bathrooms'] = round(data['Area'] / data['Rooms'], 2)\n",
    "data['Area to Total Rooms'] = round(data['Area'] / data['Total Rooms'], 2)"
   ]
  },
  {
   "cell_type": "markdown",
   "metadata": {},
   "source": [
    "## Data split"
   ]
  },
  {
   "cell_type": "markdown",
   "metadata": {},
   "source": [
    "We decide to use $80\\%$ of the data to train the model and $20\\%$ to check performance.\n",
    "We make sure to remove the `Amount` column from the training data since this is our target and remove duplicates before training."
   ]
  },
  {
   "cell_type": "code",
   "execution_count": 8,
   "metadata": {},
   "outputs": [
    {
     "name": "stdout",
     "output_type": "stream",
     "text": [
      "4592\n",
      "3998\n"
     ]
    }
   ],
   "source": [
    "print(len(data))\n",
    "data = data.drop_duplicates()\n",
    "print(len(data))"
   ]
  },
  {
   "cell_type": "code",
   "execution_count": 9,
   "metadata": {},
   "outputs": [],
   "source": [
    "X = data.drop(['Amount'], axis=1)\n",
    "y = data['Amount']\n",
    "\n",
    "split = train_test_split(X, y, train_size=.8,\n",
    "                               random_state=123)\n",
    "\n",
    "X_train, X_test, y_train, y_test = split"
   ]
  },
  {
   "cell_type": "markdown",
   "metadata": {},
   "source": [
    "## Models"
   ]
  },
  {
   "cell_type": "markdown",
   "metadata": {},
   "source": [
    "Next step is to create the models and associated piplines. We apply one hot encoding to categorical features and use the `ColumnTransformer` parameter `passthrough` to allow the rest of the columns to remain unchanged."
   ]
  },
  {
   "cell_type": "code",
   "execution_count": 10,
   "metadata": {},
   "outputs": [],
   "source": [
    "categorical = list(X.select_dtypes('object').columns)    \n",
    "continuous = list(X.select_dtypes('int64'))\n",
    "continuous += list(X.select_dtypes('float64'))"
   ]
  },
  {
   "cell_type": "markdown",
   "metadata": {},
   "source": [
    "### Baseline model"
   ]
  },
  {
   "cell_type": "markdown",
   "metadata": {},
   "source": [
    "For comparison purposes we create a model to give base predictions."
   ]
  },
  {
   "cell_type": "code",
   "execution_count": 11,
   "metadata": {},
   "outputs": [],
   "source": [
    "dmr = DummyRegressor()\n",
    "\n",
    "dmr_ohe = Pipeline(\n",
    "    steps=[('onehot', OneHotEncoder(handle_unknown='ignore'))]\n",
    ")\n",
    "\n",
    "dmr = Pipeline(steps = [('preprocessor', dmr_ohe),\n",
    "                        ('regressor', dmr)])\n",
    "\n",
    "# dmr.fit(X_train, y_train)"
   ]
  },
  {
   "cell_type": "markdown",
   "metadata": {},
   "source": [
    "### Multi-layer Perceptron"
   ]
  },
  {
   "cell_type": "markdown",
   "metadata": {},
   "source": [
    "For the neural network we apply the `MinMaxScaler` so that the continuous columns have values in $[0, 1]$ and then we apply `OneHotEncoder` to the categorical columns."
   ]
  },
  {
   "cell_type": "code",
   "execution_count": 12,
   "metadata": {},
   "outputs": [],
   "source": [
    "mlp = MLPRegressor(hidden_layer_sizes=(100, 100, 100), \n",
    "                   max_iter=2*10**4, \n",
    "                   random_state=123)\n",
    "\n",
    "mlp_ohe = Pipeline(\n",
    "    steps=[('onehot', OneHotEncoder(handle_unknown='ignore'))]\n",
    ")\n",
    "\n",
    "mlp_scale = Pipeline(\n",
    "    steps=[('scale', MinMaxScaler())]\n",
    ")\n",
    "\n",
    "mlp_pre = ColumnTransformer(\n",
    "    transformers = [\n",
    "        ('scale', mlp_scale, continuous),        \n",
    "        ('cat', mlp_ohe, categorical),\n",
    "    ],\n",
    "    remainder='passthrough'\n",
    ")\n",
    "\n",
    "mlp_trans = TransformedTargetRegressor(regressor=mlp, \n",
    "                                       transformer=MinMaxScaler())\n",
    "\n",
    "mlp = Pipeline(steps = [('preprocessor', mlp_pre),\n",
    "                        ('transformer', mlp_trans)])\n",
    "\n",
    "# mlp.fit(X_train, y_train)"
   ]
  },
  {
   "cell_type": "markdown",
   "metadata": {},
   "source": [
    "### Gradient Boosting Regressor"
   ]
  },
  {
   "cell_type": "markdown",
   "metadata": {},
   "source": [
    "For the gradient booster we only apply `OneHotEncoder` to the categorical columns."
   ]
  },
  {
   "cell_type": "code",
   "execution_count": 13,
   "metadata": {},
   "outputs": [],
   "source": [
    "gbr = GradientBoostingRegressor(random_state=123)\n",
    "\n",
    "gbr_ohe = Pipeline(\n",
    "    steps=[('onehot', OneHotEncoder(handle_unknown='ignore'))]\n",
    ")\n",
    "\n",
    "gbr_pre = ColumnTransformer(\n",
    "    transformers = [\n",
    "        ('cat', gbr_ohe, categorical)\n",
    "    ],\n",
    "    remainder='passthrough'\n",
    ")\n",
    "\n",
    "gbr = Pipeline(steps = [('preprocessor', gbr_pre),\n",
    "                        ('regressor', gbr)])\n",
    "\n",
    "# gbr.fit(X_train, y_train)"
   ]
  },
  {
   "cell_type": "markdown",
   "metadata": {},
   "source": [
    "## Parameter tuning"
   ]
  },
  {
   "cell_type": "markdown",
   "metadata": {},
   "source": [
    "We set up the training process to conduct basic parameter tuning and cross validation."
   ]
  },
  {
   "cell_type": "code",
   "execution_count": 14,
   "metadata": {},
   "outputs": [],
   "source": [
    "kf = KFold(n_splits=5, random_state=123, shuffle=True)"
   ]
  },
  {
   "cell_type": "code",
   "execution_count": 15,
   "metadata": {},
   "outputs": [],
   "source": [
    "gbr_grid = {'regressor__max_depth': [5, 10, 15], \n",
    "            'regressor__n_estimators': [50, 100, 200, 300],\n",
    "            'regressor__min_samples_split': [2, 4],\n",
    "            'regressor__min_samples_leaf': [2, 4],\n",
    "            'regressor__max_features': ['auto']}\n",
    "\n",
    "gbr_gs = GridSearchCV(estimator=gbr, \n",
    "                      param_grid=gbr_grid,\n",
    "                      cv=kf,\n",
    "                      n_jobs=8,\n",
    "                      scoring='neg_root_mean_squared_error',\n",
    "                      verbose=2)"
   ]
  },
  {
   "cell_type": "code",
   "execution_count": 16,
   "metadata": {},
   "outputs": [],
   "source": [
    "layers = [(100, 100, 100),\n",
    "          (150, 200, 150), \n",
    "          (200, 400, 200)]\n",
    "\n",
    "mlp_grid = {'transformer__regressor__activation': ['relu'],\n",
    "            'transformer__regressor__solver': ['adam'],\n",
    "            'transformer__regressor__learning_rate': ['adaptive'],\n",
    "            'transformer__regressor__learning_rate_init': [0.01, 0.001, 0.0001],\n",
    "            'transformer__regressor__hidden_layer_sizes': layers}\n",
    "\n",
    "mlp_gs = GridSearchCV(estimator=mlp, \n",
    "                      param_grid=mlp_grid,\n",
    "                      cv=kf,\n",
    "                      n_jobs=8,\n",
    "                      scoring='neg_root_mean_squared_error',                      \n",
    "                      verbose=2)"
   ]
  },
  {
   "cell_type": "markdown",
   "metadata": {},
   "source": [
    "## Training"
   ]
  },
  {
   "cell_type": "code",
   "execution_count": 17,
   "metadata": {},
   "outputs": [
    {
     "data": {
      "text/plain": [
       "Pipeline(steps=[('preprocessor',\n",
       "                 Pipeline(steps=[('onehot',\n",
       "                                  OneHotEncoder(handle_unknown='ignore'))])),\n",
       "                ('regressor', DummyRegressor())])"
      ]
     },
     "execution_count": 17,
     "metadata": {},
     "output_type": "execute_result"
    }
   ],
   "source": [
    "dmr.fit(X_train, y_train)"
   ]
  },
  {
   "cell_type": "code",
   "execution_count": 18,
   "metadata": {
    "scrolled": false
   },
   "outputs": [
    {
     "name": "stdout",
     "output_type": "stream",
     "text": [
      "Fitting 5 folds for each of 9 candidates, totalling 45 fits\n"
     ]
    },
    {
     "name": "stderr",
     "output_type": "stream",
     "text": [
      "[Parallel(n_jobs=8)]: Using backend LokyBackend with 8 concurrent workers.\n",
      "[Parallel(n_jobs=8)]: Done  25 tasks      | elapsed:   25.5s\n",
      "[Parallel(n_jobs=8)]: Done  45 out of  45 | elapsed:  1.2min finished\n"
     ]
    },
    {
     "data": {
      "text/plain": [
       "Pipeline(steps=[('preprocessor',\n",
       "                 ColumnTransformer(remainder='passthrough',\n",
       "                                   transformers=[('scale',\n",
       "                                                  Pipeline(steps=[('scale',\n",
       "                                                                   MinMaxScaler())]),\n",
       "                                                  ['Area', 'Rooms', 'Bathrooms',\n",
       "                                                   'Bool Sum', 'Total Rooms',\n",
       "                                                   'Log Area',\n",
       "                                                   'Area to Bool Sum',\n",
       "                                                   'Rooms to Bool Sum',\n",
       "                                                   'Rooms to Bathrooms',\n",
       "                                                   'Area to Rooms',\n",
       "                                                   'Area to Bathrooms',\n",
       "                                                   'Area to Total Rooms']),\n",
       "                                                 ('cat',\n",
       "                                                  Pipeline(steps=[('onehot',\n",
       "                                                                   OneHotEncoder(handle_unknown='ignore'))]),\n",
       "                                                  ['District', 'Seller',\n",
       "                                                   'Parking'])])),\n",
       "                ('transformer',\n",
       "                 TransformedTargetRegressor(regressor=MLPRegressor(hidden_layer_sizes=(200,\n",
       "                                                                                       400,\n",
       "                                                                                       200),\n",
       "                                                                   learning_rate='adaptive',\n",
       "                                                                   learning_rate_init=0.0001,\n",
       "                                                                   max_iter=20000,\n",
       "                                                                   random_state=123),\n",
       "                                            transformer=MinMaxScaler()))])"
      ]
     },
     "execution_count": 18,
     "metadata": {},
     "output_type": "execute_result"
    }
   ],
   "source": [
    "mlp = mlp_gs.fit(X_train, y_train).best_estimator_\n",
    "mlp"
   ]
  },
  {
   "cell_type": "markdown",
   "metadata": {},
   "source": [
    "CV `RMSE` score for `MLPRegressor`:"
   ]
  },
  {
   "cell_type": "code",
   "execution_count": 19,
   "metadata": {},
   "outputs": [
    {
     "name": "stdout",
     "output_type": "stream",
     "text": [
      "119689\n"
     ]
    }
   ],
   "source": [
    "print(round(abs(mlp_gs.best_score_)))"
   ]
  },
  {
   "cell_type": "code",
   "execution_count": 20,
   "metadata": {},
   "outputs": [
    {
     "name": "stdout",
     "output_type": "stream",
     "text": [
      "Fitting 5 folds for each of 48 candidates, totalling 240 fits\n"
     ]
    },
    {
     "name": "stderr",
     "output_type": "stream",
     "text": [
      "[Parallel(n_jobs=8)]: Using backend LokyBackend with 8 concurrent workers.\n",
      "[Parallel(n_jobs=8)]: Done  25 tasks      | elapsed:    9.7s\n",
      "[Parallel(n_jobs=8)]: Done 146 tasks      | elapsed:  1.4min\n",
      "[Parallel(n_jobs=8)]: Done 240 out of 240 | elapsed:  3.5min finished\n"
     ]
    },
    {
     "data": {
      "text/plain": [
       "Pipeline(steps=[('preprocessor',\n",
       "                 ColumnTransformer(remainder='passthrough',\n",
       "                                   transformers=[('cat',\n",
       "                                                  Pipeline(steps=[('onehot',\n",
       "                                                                   OneHotEncoder(handle_unknown='ignore'))]),\n",
       "                                                  ['District', 'Seller',\n",
       "                                                   'Parking'])])),\n",
       "                ('regressor',\n",
       "                 GradientBoostingRegressor(max_depth=5, max_features='auto',\n",
       "                                           min_samples_leaf=4,\n",
       "                                           random_state=123))])"
      ]
     },
     "execution_count": 20,
     "metadata": {},
     "output_type": "execute_result"
    }
   ],
   "source": [
    "gbr = gbr_gs.fit(X_train, y_train).best_estimator_\n",
    "gbr"
   ]
  },
  {
   "cell_type": "markdown",
   "metadata": {},
   "source": [
    "CV `RMSE` score for `GradientBoostingRegressor`:"
   ]
  },
  {
   "cell_type": "code",
   "execution_count": 21,
   "metadata": {},
   "outputs": [
    {
     "name": "stdout",
     "output_type": "stream",
     "text": [
      "117912\n"
     ]
    }
   ],
   "source": [
    "print(round(abs(gbr_gs.best_score_)))"
   ]
  },
  {
   "cell_type": "markdown",
   "metadata": {},
   "source": [
    "### Voting Regressor"
   ]
  },
  {
   "cell_type": "markdown",
   "metadata": {},
   "source": [
    "We create a `VotingRegressor` with uniform weights to be able to combine predictions of our models."
   ]
  },
  {
   "cell_type": "code",
   "execution_count": 22,
   "metadata": {},
   "outputs": [],
   "source": [
    "vote = VotingRegressor(estimators=[['mlp', mlp], ['gbr', gbr]], n_jobs=8)\n",
    "vote = vote.fit(X_train, y_train)"
   ]
  },
  {
   "cell_type": "markdown",
   "metadata": {},
   "source": [
    "## Model performance"
   ]
  },
  {
   "cell_type": "markdown",
   "metadata": {},
   "source": [
    "We obtain predictions for the testing set and compare `RMSE`, `MAE` and `MSLE` scores of our models."
   ]
  },
  {
   "cell_type": "code",
   "execution_count": 23,
   "metadata": {},
   "outputs": [],
   "source": [
    "def get_scores(regressor, X_test, y_true, verb=True):\n",
    "    \"\"\"\n",
    "    Obtain RMSE, MAE and MSLE for test set.\n",
    "    \"\"\"\n",
    "    \n",
    "    y_pred = regressor.predict(X_test)\n",
    "    \n",
    "    rmse = mean_squared_error(y_pred=y_pred, \n",
    "                              y_true=y_test, \n",
    "                              squared=False)\n",
    "    \n",
    "    mae = mean_absolute_error(y_pred=y_pred, \n",
    "                              y_true=y_test)\n",
    "    \n",
    "    msle = mean_squared_log_error(y_pred=y_pred, \n",
    "                                  y_true=y_test)    \n",
    "    \n",
    "    if verb:\n",
    "        \n",
    "        print(f'RMSE: {rmse:10.2f}')\n",
    "        print(f'MAE:  {mae:10.2f}')\n",
    "        print(f'MSLE: {msle:10.2f}')        \n",
    "    \n",
    "    return (rmse, mae, msle)"
   ]
  },
  {
   "cell_type": "markdown",
   "metadata": {},
   "source": [
    "### Dummy"
   ]
  },
  {
   "cell_type": "code",
   "execution_count": 24,
   "metadata": {},
   "outputs": [
    {
     "name": "stdout",
     "output_type": "stream",
     "text": [
      "RMSE:  222475.70\n",
      "MAE:   161219.86\n",
      "MSLE:       0.13\n"
     ]
    }
   ],
   "source": [
    "dmr_score = get_scores(regressor=dmr, \n",
    "                       X_test=X_test, \n",
    "                       y_true=y_test)"
   ]
  },
  {
   "cell_type": "markdown",
   "metadata": {},
   "source": [
    "### Multilayer Perceptrion"
   ]
  },
  {
   "cell_type": "code",
   "execution_count": 25,
   "metadata": {},
   "outputs": [
    {
     "name": "stdout",
     "output_type": "stream",
     "text": [
      "RMSE:  120493.86\n",
      "MAE:    79646.51\n",
      "MSLE:       0.03\n"
     ]
    }
   ],
   "source": [
    "mlp_score = get_scores(regressor=mlp, \n",
    "                       X_test=X_test, \n",
    "                       y_true=y_test)"
   ]
  },
  {
   "cell_type": "markdown",
   "metadata": {},
   "source": [
    "### Gradient Boosting Regressor"
   ]
  },
  {
   "cell_type": "code",
   "execution_count": 26,
   "metadata": {},
   "outputs": [
    {
     "name": "stdout",
     "output_type": "stream",
     "text": [
      "RMSE:  119237.05\n",
      "MAE:    76182.62\n",
      "MSLE:       0.03\n"
     ]
    }
   ],
   "source": [
    "gbr_score = get_scores(regressor=gbr, \n",
    "                       X_test=X_test, \n",
    "                       y_true=y_test)"
   ]
  },
  {
   "cell_type": "markdown",
   "metadata": {},
   "source": [
    "### Voting Regressor"
   ]
  },
  {
   "cell_type": "code",
   "execution_count": 27,
   "metadata": {},
   "outputs": [
    {
     "name": "stdout",
     "output_type": "stream",
     "text": [
      "RMSE:  116478.02\n",
      "MAE:    74993.84\n",
      "MSLE:       0.03\n"
     ]
    }
   ],
   "source": [
    "vote_score = get_scores(regressor=vote, \n",
    "                        X_test=X_test, \n",
    "                        y_true=y_test)"
   ]
  },
  {
   "cell_type": "markdown",
   "metadata": {},
   "source": [
    "### Comparison"
   ]
  },
  {
   "cell_type": "markdown",
   "metadata": {},
   "source": [
    "We are happy to see that the `VotingRegressor` outperforms the `DummyRegressor` model as well the `GradientBoostingRegressor` and the `MLPRegressor`."
   ]
  },
  {
   "cell_type": "code",
   "execution_count": 28,
   "metadata": {},
   "outputs": [
    {
     "data": {
      "text/html": [
       "<div>\n",
       "<style scoped>\n",
       "    .dataframe tbody tr th:only-of-type {\n",
       "        vertical-align: middle;\n",
       "    }\n",
       "\n",
       "    .dataframe tbody tr th {\n",
       "        vertical-align: top;\n",
       "    }\n",
       "\n",
       "    .dataframe thead th {\n",
       "        text-align: right;\n",
       "    }\n",
       "</style>\n",
       "<table border=\"1\" class=\"dataframe\">\n",
       "  <thead>\n",
       "    <tr style=\"text-align: right;\">\n",
       "      <th></th>\n",
       "      <th>RMSE</th>\n",
       "      <th>MAE</th>\n",
       "      <th>MSLE</th>\n",
       "    </tr>\n",
       "  </thead>\n",
       "  <tbody>\n",
       "    <tr>\n",
       "      <th>DMR</th>\n",
       "      <td>222,475.70</td>\n",
       "      <td>161,219.86</td>\n",
       "      <td>0.13</td>\n",
       "    </tr>\n",
       "    <tr>\n",
       "      <th>MLP</th>\n",
       "      <td>120,493.86</td>\n",
       "      <td>79,646.51</td>\n",
       "      <td>0.03</td>\n",
       "    </tr>\n",
       "    <tr>\n",
       "      <th>GBR</th>\n",
       "      <td>119,237.05</td>\n",
       "      <td>76,182.62</td>\n",
       "      <td>0.03</td>\n",
       "    </tr>\n",
       "    <tr>\n",
       "      <th>VOTE</th>\n",
       "      <td>116,478.02</td>\n",
       "      <td>74,993.84</td>\n",
       "      <td>0.03</td>\n",
       "    </tr>\n",
       "  </tbody>\n",
       "</table>\n",
       "</div>"
      ],
      "text/plain": [
       "           RMSE        MAE  MSLE\n",
       "DMR  222,475.70 161,219.86  0.13\n",
       "MLP  120,493.86  79,646.51  0.03\n",
       "GBR  119,237.05  76,182.62  0.03\n",
       "VOTE 116,478.02  74,993.84  0.03"
      ]
     },
     "execution_count": 28,
     "metadata": {},
     "output_type": "execute_result"
    }
   ],
   "source": [
    "scores = [dmr_score,\n",
    "          mlp_score,\n",
    "          gbr_score,\n",
    "          vote_score]\n",
    "\n",
    "scores = pd.DataFrame(scores, \n",
    "                      index=['DMR', 'MLP', 'GBR', 'VOTE'], \n",
    "                      columns=['RMSE', 'MAE', 'MSLE'])\n",
    "\n",
    "scores"
   ]
  },
  {
   "cell_type": "markdown",
   "metadata": {},
   "source": [
    "## Visualizations "
   ]
  },
  {
   "cell_type": "markdown",
   "metadata": {},
   "source": [
    "We produce a couple of plots the visually inspect the performance of our model.\n",
    "We use the test data set with the predicted `Amount` to produce the plots."
   ]
  },
  {
   "cell_type": "code",
   "execution_count": 29,
   "metadata": {},
   "outputs": [
    {
     "data": {
      "text/html": [
       "<div>\n",
       "<style scoped>\n",
       "    .dataframe tbody tr th:only-of-type {\n",
       "        vertical-align: middle;\n",
       "    }\n",
       "\n",
       "    .dataframe tbody tr th {\n",
       "        vertical-align: top;\n",
       "    }\n",
       "\n",
       "    .dataframe thead th {\n",
       "        text-align: right;\n",
       "    }\n",
       "</style>\n",
       "<table border=\"1\" class=\"dataframe\">\n",
       "  <thead>\n",
       "    <tr style=\"text-align: right;\">\n",
       "      <th></th>\n",
       "      <th>Amount</th>\n",
       "      <th>Predicted Amount</th>\n",
       "      <th>District</th>\n",
       "      <th>Area</th>\n",
       "      <th>Total Rooms</th>\n",
       "    </tr>\n",
       "  </thead>\n",
       "  <tbody>\n",
       "    <tr>\n",
       "      <th>1241</th>\n",
       "      <td>660000</td>\n",
       "      <td>657,844.33</td>\n",
       "      <td>podgorze</td>\n",
       "      <td>79</td>\n",
       "      <td>5</td>\n",
       "    </tr>\n",
       "    <tr>\n",
       "      <th>3535</th>\n",
       "      <td>600000</td>\n",
       "      <td>607,834.91</td>\n",
       "      <td>lagiewniki</td>\n",
       "      <td>67</td>\n",
       "      <td>4</td>\n",
       "    </tr>\n",
       "    <tr>\n",
       "      <th>2449</th>\n",
       "      <td>339000</td>\n",
       "      <td>342,399.17</td>\n",
       "      <td>bronowice</td>\n",
       "      <td>30</td>\n",
       "      <td>2</td>\n",
       "    </tr>\n",
       "    <tr>\n",
       "      <th>2992</th>\n",
       "      <td>528000</td>\n",
       "      <td>531,523.50</td>\n",
       "      <td>czyzyny</td>\n",
       "      <td>55</td>\n",
       "      <td>4</td>\n",
       "    </tr>\n",
       "    <tr>\n",
       "      <th>2756</th>\n",
       "      <td>850000</td>\n",
       "      <td>776,874.86</td>\n",
       "      <td>stare miasto</td>\n",
       "      <td>63</td>\n",
       "      <td>3</td>\n",
       "    </tr>\n",
       "  </tbody>\n",
       "</table>\n",
       "</div>"
      ],
      "text/plain": [
       "      Amount  Predicted Amount      District  Area  Total Rooms\n",
       "1241  660000        657,844.33      podgorze    79            5\n",
       "3535  600000        607,834.91    lagiewniki    67            4\n",
       "2449  339000        342,399.17     bronowice    30            2\n",
       "2992  528000        531,523.50       czyzyny    55            4\n",
       "2756  850000        776,874.86  stare miasto    63            3"
      ]
     },
     "execution_count": 29,
     "metadata": {},
     "output_type": "execute_result"
    }
   ],
   "source": [
    "cols = ['Amount', 'Predicted Amount', \n",
    "        'District', 'Area', 'Total Rooms']\n",
    "\n",
    "X_pred = X_test.copy()\n",
    "X_pred.loc[:, 'Amount'] = y\n",
    "X_pred.loc[:, 'Predicted Amount'] = vote.predict(X_test)\n",
    "X_pred = X_pred.loc[:, cols]\n",
    "\n",
    "X_pred.head()"
   ]
  },
  {
   "cell_type": "markdown",
   "metadata": {},
   "source": [
    "On our first visual it can be seen that there exists a fairly linear relationship between the `Predicted Amount` and the `Area` of the property."
   ]
  },
  {
   "cell_type": "code",
   "execution_count": 30,
   "metadata": {},
   "outputs": [
    {
     "data": {
      "image/png": "[encoded data removed]",
      "text/plain": [
       "<Figure size 288x288 with 1 Axes>"
      ]
     },
     "metadata": {
      "needs_background": "light"
     },
     "output_type": "display_data"
    }
   ],
   "source": [
    "plt.scatter(X_pred['Area'], X_pred['Predicted Amount'], s=2)\n",
    "plt.xlabel('Area')\n",
    "plt.ylabel('Predicted Amount (PLN)')\n",
    "\n",
    "ax = plt.gca()\n",
    "ax.xaxis.set_major_locator(MaxNLocator(integer=True))\n",
    "\n",
    "plt.tight_layout()\n",
    "plt.savefig('img/area_vs_amount.png')\n",
    "plt.show()"
   ]
  },
  {
   "cell_type": "markdown",
   "metadata": {},
   "source": [
    "On the second visual it can bee seen, as expected the more `Total Rooms` in a `Property` the more it should cost."
   ]
  },
  {
   "cell_type": "code",
   "execution_count": 31,
   "metadata": {},
   "outputs": [
    {
     "data": {
      "image/png": "[encoded data removed]",
      "text/plain": [
       "<Figure size 288x288 with 1 Axes>"
      ]
     },
     "metadata": {
      "needs_background": "light"
     },
     "output_type": "display_data"
    }
   ],
   "source": [
    "plt.scatter(X_pred['Total Rooms'], X_pred['Predicted Amount'], s=2)\n",
    "plt.xlabel('Total Rooms')\n",
    "plt.ylabel('Predicted Amount (PLN)')\n",
    "\n",
    "ax = plt.gca()\n",
    "ax.xaxis.set_major_locator(MaxNLocator(integer=True))\n",
    "\n",
    "plt.tight_layout()\n",
    "plt.savefig('img/rooms_vs_amount.png')\n",
    "plt.show()"
   ]
  },
  {
   "cell_type": "markdown",
   "metadata": {},
   "source": [
    "Next we want to check if the model distinguishes between districts. We group the data by `District` and calculate the mean of the predictions with the group. We produce a bar chart sorted from highest average to lowest. Clearly the model distinguishes between district that are near the city center (`stare miasto`, `zwierzyniec`) and those further away (`łagiewniki`, `bieżanów`)."
   ]
  },
  {
   "cell_type": "code",
   "execution_count": 32,
   "metadata": {},
   "outputs": [
    {
     "data": {
      "image/png": "[encoded data removed]",
      "text/plain": [
       "<Figure size 576x288 with 1 Axes>"
      ]
     },
     "metadata": {
      "needs_background": "light"
     },
     "output_type": "display_data"
    }
   ],
   "source": [
    "width = 1600\n",
    "height = width/2\n",
    "dpi = 200\n",
    "\n",
    "X_grp = X_pred[['District', 'Predicted Amount']]\n",
    "X_grp = X_grp.groupby('District', as_index=False).mean()\n",
    "X_grp = X_grp.sort_values('Predicted Amount', ascending=False)\n",
    "\n",
    "plt.figure(figsize=(width/dpi, height/dpi))\n",
    "\n",
    "plt.bar(X_grp['District'], X_grp['Predicted Amount'] / 1000)\n",
    "\n",
    "plt.ylabel('Mean predicted amount (k PLN)')\n",
    "plt.ylim(X_grp['Predicted Amount'].min() * 0.67 / 1000, None)\n",
    "plt.xticks(rotation=90)\n",
    "\n",
    "plt.tight_layout()\n",
    "plt.savefig('img/district_vs_avg_amount.png')\n",
    "plt.show()"
   ]
  },
  {
   "cell_type": "markdown",
   "metadata": {},
   "source": [
    "## Getting predictions"
   ]
  },
  {
   "cell_type": "markdown",
   "metadata": {},
   "source": [
    "Next we would like see how the model handles sets of arbitrary parameters. We write a function to transform inputs to desired format and obtain prediction from the model."
   ]
  },
  {
   "cell_type": "code",
   "execution_count": 33,
   "metadata": {},
   "outputs": [],
   "source": [
    "def get_pred(district,\n",
    "             seller,\n",
    "             area,\n",
    "             rooms,\n",
    "             bathrooms,\n",
    "             parking,\n",
    "             garden,\n",
    "             balcony,\n",
    "             terrace,\n",
    "             floor,\n",
    "             new,\n",
    "             estate,\n",
    "             townhouse,\n",
    "             apartment,\n",
    "             land,\n",
    "             studio):\n",
    "\n",
    "    columns = ['District',\n",
    "               'Seller',\n",
    "               'Area',\n",
    "               'Rooms',\n",
    "               'Bathrooms',\n",
    "               'Parking',\n",
    "               'Garden',\n",
    "               'Balcony',\n",
    "               'Terrace',\n",
    "               'Floor',\n",
    "               'New',\n",
    "               'Estate',\n",
    "               'Townhouse',\n",
    "               'Apartment',\n",
    "               'Land',\n",
    "               'Studio',\n",
    "               'Log Area',\n",
    "               'Bool Sum',\n",
    "               'Area to Bool Sum',\n",
    "               'Rooms to Bool Sum',\n",
    "               'Rooms to Bathrooms',\n",
    "               'Total Rooms',\n",
    "               'Area to Rooms',\n",
    "               'Area to Bathrooms',\n",
    "               'Area to Total Rooms']\n",
    "        \n",
    "    log_area = np.log(area)\n",
    "\n",
    "    all_bools = [garden,\n",
    "                 balcony,\n",
    "                 terrace,\n",
    "                 floor,\n",
    "                 new,\n",
    "                 estate,\n",
    "                 townhouse,\n",
    "                 apartment,\n",
    "                 land,\n",
    "                 studio]\n",
    "    \n",
    "    bool_sum = sum(all_bools)\n",
    "    area_to_bool_sum = area / (bool_sum + 1)\n",
    "    rooms_to_bool_sum = rooms / (bool_sum + 1)    \n",
    "    rooms_to_bathrooms = rooms / bathrooms        \n",
    "    total_rooms = rooms + bathrooms\n",
    "    area_to_rooms = area / total_rooms\n",
    "    area_to_bathrooms = area / bathrooms\n",
    "    area_to_total_rooms = area / total_rooms\n",
    "    \n",
    "    x = [district,\n",
    "         seller,\n",
    "         area,\n",
    "         rooms,\n",
    "         bathrooms,\n",
    "         parking,\n",
    "         garden,\n",
    "         balcony,\n",
    "         terrace,\n",
    "         floor,\n",
    "         new,\n",
    "         estate,\n",
    "         townhouse,\n",
    "         apartment,\n",
    "         land,\n",
    "         studio,\n",
    "         log_area,\n",
    "         bool_sum,\n",
    "         area_to_bool_sum,\n",
    "         rooms_to_bool_sum,\n",
    "         rooms_to_bathrooms,\n",
    "         total_rooms,\n",
    "         area_to_rooms,\n",
    "         area_to_bathrooms,\n",
    "         area_to_total_rooms]    \n",
    "    \n",
    "    x = pd.DataFrame([x], columns=columns)    \n",
    "    x = float(vote.predict(x))\n",
    "\n",
    "    return int(round(x, -3))    "
   ]
  },
  {
   "cell_type": "markdown",
   "metadata": {},
   "source": [
    "We create lists of inputs for the model to predict."
   ]
  },
  {
   "cell_type": "code",
   "execution_count": 34,
   "metadata": {},
   "outputs": [],
   "source": [
    "areas = range(30, 120, 5)\n",
    "rooms = range(1, 5)\n",
    "districts = ['stare miasto', \n",
    "             'bronowice', \n",
    "             'krowodrza',\n",
    "             'borek falecki']"
   ]
  },
  {
   "cell_type": "markdown",
   "metadata": {},
   "source": [
    "Next we loop over lists of possible `Area`'s and `Room`'s and plot the outputs. First we check how the model reacts to different districts."
   ]
  },
  {
   "cell_type": "code",
   "execution_count": 35,
   "metadata": {},
   "outputs": [
    {
     "data": {
      "image/png": "[encoded data removed]",
      "text/plain": [
       "<Figure size 288x288 with 1 Axes>"
      ]
     },
     "metadata": {
      "needs_background": "light"
     },
     "output_type": "display_data"
    }
   ],
   "source": [
    "plt.figure()\n",
    "\n",
    "for d in districts:\n",
    "    value = list()\n",
    "    for a in areas:\n",
    "        pred = get_pred(district=d,\n",
    "         seller='realtor',\n",
    "         area=a,\n",
    "         rooms=2,\n",
    "         bathrooms=1,\n",
    "         parking='street',\n",
    "         garden=False,\n",
    "         balcony=False,\n",
    "         terrace=False,\n",
    "         floor=False,\n",
    "         new=True,\n",
    "         estate=False,\n",
    "         townhouse=True,\n",
    "         apartment=False,\n",
    "         land=False,\n",
    "         studio=True)\n",
    "        value.append(pred)\n",
    "    plt.plot(areas, value, label=d)\n",
    "    \n",
    "plt.ylabel('Price (PLN)')\n",
    "plt.xlabel('Area')\n",
    "plt.legend(loc='best')\n",
    "plt.savefig('img/area_vs_amount_by_district')\n",
    "plt.show()"
   ]
  },
  {
   "cell_type": "markdown",
   "metadata": {},
   "source": [
    "We do the same for different amounts of `Room`'s."
   ]
  },
  {
   "cell_type": "code",
   "execution_count": 36,
   "metadata": {},
   "outputs": [
    {
     "data": {
      "image/png": "[encoded data removed]",
      "text/plain": [
       "<Figure size 288x288 with 1 Axes>"
      ]
     },
     "metadata": {
      "needs_background": "light"
     },
     "output_type": "display_data"
    }
   ],
   "source": [
    "plt.figure()\n",
    "\n",
    "for r in rooms:\n",
    "    value = list()\n",
    "    for a in areas:\n",
    "        pred = get_pred(district='stare miasto',\n",
    "         seller='owner',\n",
    "         area=a,\n",
    "         rooms=r,\n",
    "         bathrooms=1,\n",
    "         parking='street',\n",
    "         garden=False,\n",
    "         balcony=True,\n",
    "         terrace=False,\n",
    "         floor=False,\n",
    "         new=True,\n",
    "         estate=False,\n",
    "         townhouse=True,\n",
    "         apartment=False,\n",
    "         land=False,\n",
    "         studio=True)\n",
    "        value.append(pred)\n",
    "    plt.plot(areas, value, label=f'{r} rooms')\n",
    "    \n",
    "plt.title('Stare Miasto')\n",
    "plt.ylabel('Price (PLN)')\n",
    "plt.xlabel('Area')    \n",
    "plt.legend(loc='best')\n",
    "plt.savefig('img/area_vs_amount_by_rooms')\n",
    "plt.show()"
   ]
  },
  {
   "cell_type": "markdown",
   "metadata": {},
   "source": [
    "## Final training"
   ]
  },
  {
   "cell_type": "markdown",
   "metadata": {},
   "source": [
    "The last step is to fit the model to the entire dataset and save it for later use."
   ]
  },
  {
   "cell_type": "code",
   "execution_count": 37,
   "metadata": {},
   "outputs": [
    {
     "name": "stdout",
     "output_type": "stream",
     "text": [
      "Full training took 648 seconds.\n"
     ]
    }
   ],
   "source": [
    "start = datetime.now()\n",
    "\n",
    "gbr.fit(X, y)\n",
    "joblib.dump(gbr, f'../flats-model/gbr.joblib')\n",
    "\n",
    "mlp.fit(X, y)\n",
    "joblib.dump(mlp, f'../flats-model/mlp.joblib')\n",
    "\n",
    "vote.fit(X, y)\n",
    "joblib.dump(vote, f'../flats-model/vote.joblib')\n",
    "\n",
    "end = datetime.now()\n",
    "\n",
    "duration = (end - start).seconds\n",
    "\n",
    "print(f'Full training took {int(duration)} seconds.')"
   ]
  },
  {
   "cell_type": "code",
   "execution_count": 38,
   "metadata": {},
   "outputs": [],
   "source": [
    "# Copy files to portfolio\n",
    "# fromDirectory = '.'\n",
    "# toDirectory = '/home/dev/Github/data-science-portfolio/flats-in-cracow'\n",
    "# copy_tree(fromDirectory, toDirectory)"
   ]
  }
 ],
 "metadata": {
  "kernelspec": {
   "display_name": "Python 3",
   "language": "python",
   "name": "python3"
  },
  "language_info": {
   "codemirror_mode": {
    "name": "ipython",
    "version": 3
   },
   "file_extension": ".py",
   "mimetype": "text/x-python",
   "name": "python",
   "nbconvert_exporter": "python",
   "pygments_lexer": "ipython3",
   "version": "3.8.2"
  }
 },
 "nbformat": 4,
 "nbformat_minor": 4
}
